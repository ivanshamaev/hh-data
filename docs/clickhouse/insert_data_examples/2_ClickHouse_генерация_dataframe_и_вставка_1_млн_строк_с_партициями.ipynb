{
  "nbformat": 4,
  "nbformat_minor": 0,
  "metadata": {
    "colab": {
      "provenance": []
    },
    "kernelspec": {
      "name": "python3",
      "display_name": "Python 3"
    },
    "language_info": {
      "name": "python"
    }
  },
  "cells": [
    {
      "cell_type": "code",
      "source": [
        "!pip install clickhouse_connect faker"
      ],
      "metadata": {
        "colab": {
          "base_uri": "https://localhost:8080/"
        },
        "id": "HKVyLyCUWIYS",
        "outputId": "aa5a64cc-874f-4db9-aec2-1ef799caf875"
      },
      "execution_count": 30,
      "outputs": [
        {
          "output_type": "stream",
          "name": "stdout",
          "text": [
            "Requirement already satisfied: clickhouse_connect in /usr/local/lib/python3.10/dist-packages (0.7.1)\n",
            "Requirement already satisfied: faker in /usr/local/lib/python3.10/dist-packages (23.3.0)\n",
            "Requirement already satisfied: certifi in /usr/local/lib/python3.10/dist-packages (from clickhouse_connect) (2024.2.2)\n",
            "Requirement already satisfied: urllib3>=1.26 in /usr/local/lib/python3.10/dist-packages (from clickhouse_connect) (2.0.7)\n",
            "Requirement already satisfied: pytz in /usr/local/lib/python3.10/dist-packages (from clickhouse_connect) (2023.4)\n",
            "Requirement already satisfied: zstandard in /usr/local/lib/python3.10/dist-packages (from clickhouse_connect) (0.22.0)\n",
            "Requirement already satisfied: lz4 in /usr/local/lib/python3.10/dist-packages (from clickhouse_connect) (4.3.3)\n",
            "Requirement already satisfied: python-dateutil>=2.4 in /usr/local/lib/python3.10/dist-packages (from faker) (2.8.2)\n",
            "Requirement already satisfied: six>=1.5 in /usr/local/lib/python3.10/dist-packages (from python-dateutil>=2.4->faker) (1.16.0)\n"
          ]
        }
      ]
    },
    {
      "cell_type": "code",
      "execution_count": 31,
      "metadata": {
        "id": "o15D2238V-ym"
      },
      "outputs": [],
      "source": [
        "import pandas as pd\n",
        "import numpy as np\n",
        "from faker import Faker\n",
        "import random\n",
        "from datetime import datetime, timedelta\n",
        "import clickhouse_connect\n",
        "from dateutil.relativedelta import relativedelta"
      ]
    },
    {
      "cell_type": "code",
      "source": [
        "# Создание клиента для подключения к ClickHouse\n",
        "client = clickhouse_connect.get_client(host='31.129.97.202', port='8123', user='default', password= '111')"
      ],
      "metadata": {
        "id": "Jf6I4lZNgMqB"
      },
      "execution_count": 32,
      "outputs": []
    },
    {
      "cell_type": "code",
      "source": [
        "# creating a table in ClickHouse\n",
        "create_table_sql = \"\"\"\n",
        "CREATE TABLE data_mart_with_partition (\n",
        "    timeseries DateTime,\n",
        "    Date Date,\n",
        "    City String,\n",
        "    Client String,\n",
        "    Product String,\n",
        "    metric_1 Float64,\n",
        "    metric_2 Float64,\n",
        "    metric_3 Float64,\n",
        "    metric_4 Float64\n",
        ")\n",
        "ENGINE = MergeTree\n",
        "PARTITION BY toYYYYMM(Date)\n",
        "ORDER BY (Date, City, Client, Product)\n",
        ";\n",
        "\"\"\"\n",
        "\n",
        "client.command('DROP TABLE IF EXISTS data_mart_with_partition')\n",
        "client.command(create_table_sql)\n",
        "\n",
        "print('Таблица data_mart_with_partition создана в ClickHouse')"
      ],
      "metadata": {
        "colab": {
          "base_uri": "https://localhost:8080/"
        },
        "id": "YCXdAoRAgCxU",
        "outputId": "3f7ad4b9-ba67-4ed9-e5b4-362abf478849"
      },
      "execution_count": 33,
      "outputs": [
        {
          "output_type": "stream",
          "name": "stdout",
          "text": [
            "Таблица data_mart_with_partition создана в ClickHouse\n"
          ]
        }
      ]
    },
    {
      "cell_type": "code",
      "source": [
        "# Инициализация Faker для генерации случайных данных\n",
        "fake = Faker()"
      ],
      "metadata": {
        "id": "KxjF6aAv5z6f"
      },
      "execution_count": 34,
      "outputs": []
    },
    {
      "cell_type": "code",
      "source": [
        "def generate_dataframe(num_rows, start_date, end_date):\n",
        "    print(f\"num_rows = {num_rows}. Generate DataFrame for period: {start_date} to {end_date}\")\n",
        "\n",
        "    # Генерация случайных данных для датафрейма\n",
        "    data = {\n",
        "        'Date': [fake.date_between_dates(date_start=start_date, date_end=end_date) for _ in range(num_rows)],\n",
        "        'City': [fake.city() for _ in range(num_rows)],\n",
        "        'Client': [fake.name() for _ in range(num_rows)],\n",
        "        'Product': [fake.word() for _ in range(num_rows)],\n",
        "    }\n",
        "\n",
        "    # Генерация случайных значений для метрик\n",
        "    for i in range(1, 5):\n",
        "        data[f'metric_{i}'] = np.round(np.random.uniform(low=i, high=i*20, size=num_rows)/np.random.uniform(low=1, high=i), 2)\n",
        "\n",
        "    # Создание датафрейма\n",
        "    df = pd.DataFrame(data)\n",
        "\n",
        "    # creating a timeseries field\n",
        "    df['timeseries'] = pd.to_datetime(df['Date'])\n",
        "\n",
        "    print('Dataframe сгенерирован')\n",
        "\n",
        "    # Sending data to ClickHouse\n",
        "    client.insert_df('data_mart_with_partition', df)\n",
        "\n",
        "    print('Данные вставлены в таблицу data_mart_with_partition')"
      ],
      "metadata": {
        "id": "Hdv1f4lHgTFt"
      },
      "execution_count": 35,
      "outputs": []
    },
    {
      "cell_type": "code",
      "source": [
        "# Начальная и конечная дата\n",
        "start_date = datetime(2024, 1, 1)\n",
        "end_date = datetime(2024, 2, 29)\n",
        "\n",
        "# Задаем количество строк в датафрейме\n",
        "num_rows = 100000\n",
        "\n",
        "# Вставка N раз по num_rows строк\n",
        "for i in range(1, 11):\n",
        "    print(f\"*** Вставка данных № {i}\")\n",
        "    generate_dataframe(num_rows, start_date, end_date)"
      ],
      "metadata": {
        "colab": {
          "base_uri": "https://localhost:8080/"
        },
        "id": "K55tsS8AgYyH",
        "outputId": "847402d0-3ca8-4fb2-a2d2-a89b42ef9b3c"
      },
      "execution_count": 36,
      "outputs": [
        {
          "output_type": "stream",
          "name": "stdout",
          "text": [
            "*** Вставка данных № 1\n",
            "num_rows = 100000. Generate DataFrame for period: 2024-01-01 00:00:00 to 2024-02-29 00:00:00\n",
            "Dataframe сгенерирован\n",
            "Данные вставлены в таблицу data_mart_with_partition\n",
            "*** Вставка данных № 2\n",
            "num_rows = 100000. Generate DataFrame for period: 2024-01-01 00:00:00 to 2024-02-29 00:00:00\n",
            "Dataframe сгенерирован\n",
            "Данные вставлены в таблицу data_mart_with_partition\n",
            "*** Вставка данных № 3\n",
            "num_rows = 100000. Generate DataFrame for period: 2024-01-01 00:00:00 to 2024-02-29 00:00:00\n",
            "Dataframe сгенерирован\n",
            "Данные вставлены в таблицу data_mart_with_partition\n",
            "*** Вставка данных № 4\n",
            "num_rows = 100000. Generate DataFrame for period: 2024-01-01 00:00:00 to 2024-02-29 00:00:00\n",
            "Dataframe сгенерирован\n",
            "Данные вставлены в таблицу data_mart_with_partition\n",
            "*** Вставка данных № 5\n",
            "num_rows = 100000. Generate DataFrame for period: 2024-01-01 00:00:00 to 2024-02-29 00:00:00\n",
            "Dataframe сгенерирован\n",
            "Данные вставлены в таблицу data_mart_with_partition\n",
            "*** Вставка данных № 6\n",
            "num_rows = 100000. Generate DataFrame for period: 2024-01-01 00:00:00 to 2024-02-29 00:00:00\n",
            "Dataframe сгенерирован\n",
            "Данные вставлены в таблицу data_mart_with_partition\n",
            "*** Вставка данных № 7\n",
            "num_rows = 100000. Generate DataFrame for period: 2024-01-01 00:00:00 to 2024-02-29 00:00:00\n",
            "Dataframe сгенерирован\n",
            "Данные вставлены в таблицу data_mart_with_partition\n",
            "*** Вставка данных № 8\n",
            "num_rows = 100000. Generate DataFrame for period: 2024-01-01 00:00:00 to 2024-02-29 00:00:00\n",
            "Dataframe сгенерирован\n",
            "Данные вставлены в таблицу data_mart_with_partition\n",
            "*** Вставка данных № 9\n",
            "num_rows = 100000. Generate DataFrame for period: 2024-01-01 00:00:00 to 2024-02-29 00:00:00\n",
            "Dataframe сгенерирован\n",
            "Данные вставлены в таблицу data_mart_with_partition\n",
            "*** Вставка данных № 10\n",
            "num_rows = 100000. Generate DataFrame for period: 2024-01-01 00:00:00 to 2024-02-29 00:00:00\n",
            "Dataframe сгенерирован\n",
            "Данные вставлены в таблицу data_mart_with_partition\n"
          ]
        }
      ]
    },
    {
      "cell_type": "code",
      "source": [
        "# Check count of rows in the table\n",
        "result_df = client.query_df('SELECT count(1) FROM data_mart_with_partition')\n",
        "print()\n",
        "print(result_df)"
      ],
      "metadata": {
        "colab": {
          "base_uri": "https://localhost:8080/"
        },
        "id": "eo2JR3GCgelF",
        "outputId": "a8d83a69-35c0-4e00-b214-dd6cdbb7fd08"
      },
      "execution_count": 37,
      "outputs": [
        {
          "output_type": "stream",
          "name": "stdout",
          "text": [
            "\n",
            "   count()\n",
            "0  1000000\n"
          ]
        }
      ]
    }
  ]
}